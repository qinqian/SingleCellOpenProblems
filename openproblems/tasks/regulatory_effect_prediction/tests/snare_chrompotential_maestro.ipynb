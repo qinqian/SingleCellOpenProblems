{
 "cells": [
  {
   "cell_type": "code",
   "execution_count": 1,
   "metadata": {},
   "outputs": [],
   "source": [
    "%load_ext autoreload\n",
    "%autoreload 2\n",
    "from openproblems.tasks.regulatory_effect_prediction import datasets, methods"
   ]
  },
  {
   "cell_type": "markdown",
   "metadata": {
    "tags": []
   },
   "source": [
    "## I. Use the utility function to prepare a subset of genes that are HVG and also mappable to chromosomes/TSS"
   ]
  },
  {
   "cell_type": "code",
   "execution_count": 2,
   "metadata": {
    "jupyter": {
     "source_hidden": true
    },
    "tags": []
   },
   "outputs": [],
   "source": [
    "from openproblems.patch import patch_datacache\n",
    "import numpy as np\n",
    "import pandas as pd\n",
    "import scanpy as sc\n",
    "import warnings\n",
    "\n",
    "def _chrom_limit(x, tss_size=2e5):\n",
    "    \"\"\"Extend TSS to upstream and downstream intervals.\n",
    "\n",
    "    Parameters\n",
    "    ----------\n",
    "    x : pd.Series\n",
    "        a pd.Series containing [start, end, direction]\n",
    "        where start and end are ints and direction is {'+', '-'}.\n",
    "    tss_size: int\n",
    "        a int that defines the upstream and downstream regions around TSS\n",
    "    \"\"\"\n",
    "    y = x.values\n",
    "    gene_direction = y[-1]\n",
    "    gene_start = y[-3]\n",
    "    gene_end = y[-2]\n",
    "    if gene_direction == \"+\":\n",
    "        return [gene_start - tss_size // 2, gene_start + tss_size // 2]\n",
    "    else:\n",
    "        return [gene_end - tss_size // 2, gene_end + tss_size // 2]\n",
    "\n",
    "\n",
    "def _get_annotation(adata, retries=3):\n",
    "    \"\"\"Insert meta data into adata.obs.\"\"\"\n",
    "    from pyensembl import EnsemblRelease\n",
    "\n",
    "    data = EnsemblRelease(\n",
    "        adata.uns[\"release\"],\n",
    "        adata.uns[\"species\"],\n",
    "    )\n",
    "    for _ in range(retries):\n",
    "        try:\n",
    "            with patch_datacache():\n",
    "                data.download(overwrite=False)\n",
    "                data.index(overwrite=False)\n",
    "            break\n",
    "        except TimeoutError:\n",
    "            pass\n",
    "\n",
    "    # get ensemble gene coordinate\n",
    "    genes = []\n",
    "    for i in adata.var.index.map(lambda x: x.split(\".\")[0]):\n",
    "        try:\n",
    "            with warnings.catch_warnings():\n",
    "                warnings.filterwarnings(\n",
    "                    action=\"ignore\", message=\"No results found for query\"\n",
    "                )\n",
    "                gene = data.gene_by_id(i)\n",
    "            genes.append(\n",
    "                [\n",
    "                    \"chr%s\" % gene.contig,\n",
    "                    gene.start,\n",
    "                    gene.end,\n",
    "                    gene.strand,\n",
    "                    gene.exons\n",
    "                ]\n",
    "            )\n",
    "        except ValueError:\n",
    "            try:\n",
    "                with warnings.catch_warnings():\n",
    "                    warnings.filterwarnings(\n",
    "                        action=\"ignore\", message=\"No results found for query\"\n",
    "                    )\n",
    "                    i = data.gene_ids_of_gene_name(i)[0]\n",
    "                gene = data.gene_by_id(i)\n",
    "                genes.append(\n",
    "                    [\n",
    "                        \"chr%s\" % gene.contig,\n",
    "                        gene.start,\n",
    "                        gene.end,\n",
    "                        gene.strand,\n",
    "                        gene.exons                        \n",
    "                    ]\n",
    "                )\n",
    "            except (IndexError, ValueError) as e:\n",
    "                # print(e)\n",
    "                genes.append([np.nan, np.nan, np.nan, np.nan])\n",
    "    old_col = adata.var.columns.values\n",
    "    adata.var = pd.concat(\n",
    "        [adata.var, pd.DataFrame(genes, index=adata.var_names)], axis=1\n",
    "    )\n",
    "    adata.var.columns = np.hstack(\n",
    "        [old_col, np.array([\"chr\", \"start\", \"end\", \"strand\", 'exons'])]\n",
    "    )\n",
    "\n",
    "\n",
    "def _filter_mitochondrial(adata):\n",
    "    if adata.uns[\"species\"] in [\"mus_musculus\", \"homo_sapiens\"]:\n",
    "        adata.var[\"mt\"] = adata.var.gene_short_name.str.lower().str.startswith(\n",
    "            \"mt-\"\n",
    "        )  # annotate the group of mitochondrial genes as 'mt'\n",
    "        sc.pp.calculate_qc_metrics(\n",
    "            adata, qc_vars=[\"mt\"], percent_top=None, log1p=False, inplace=True\n",
    "        )\n",
    "\n",
    "        adata_filter = adata[adata.obs.pct_counts_mt <= 10]\n",
    "        if adata_filter.shape[0] > 100:\n",
    "            adata = adata_filter.copy()\n",
    "    return adata\n",
    "\n",
    "\n",
    "def _filter_n_genes_max(adata):\n",
    "    adata_filter = adata[adata.obs.n_genes_by_counts <= 2000]\n",
    "    if adata_filter.shape[0] > 100:\n",
    "        adata = adata_filter.copy()\n",
    "    return adata\n",
    "\n",
    "\n",
    "def _filter_n_genes_min(adata):\n",
    "    adata_filter = adata.copy()\n",
    "    sc.pp.filter_cells(adata_filter, min_genes=200)\n",
    "    if adata_filter.shape[0] > 100:\n",
    "        adata = adata_filter\n",
    "    return adata\n",
    "\n",
    "\n",
    "def _filter_n_cells(adata):\n",
    "    adata_filter = adata.copy()\n",
    "    sc.pp.filter_genes(adata_filter, min_cells=5)\n",
    "    if adata_filter.shape[1] > 100:\n",
    "        adata = adata_filter\n",
    "    return adata\n",
    "\n",
    "\n",
    "def _filter_has_chr(adata):\n",
    "    adata_filter = adata[:, ~pd.isnull(adata.var.loc[:, \"chr\"])].copy()\n",
    "    if adata_filter.shape[1] > 100:\n",
    "        adata = adata_filter\n",
    "    return adata"
   ]
  },
  {
   "cell_type": "markdown",
   "metadata": {},
   "source": [
    "**This step takes like five minutes for the whole object. Please wait.**\n",
    "## In the context of testing, the pre-analysis here check for genes that are\n",
    "i. Highly variable.\n",
    "ii. Chromosome+exons mappable."
   ]
  },
  {
   "cell_type": "code",
   "execution_count": 3,
   "metadata": {
    "tags": []
   },
   "outputs": [
    {
     "name": "stdout",
     "output_type": "stream",
     "text": [
      "obtaining annotation...\n",
      "done...\n"
     ]
    },
    {
     "name": "stderr",
     "output_type": "stream",
     "text": [
      "... storing 'chr' as categorical\n",
      "... storing 'strand' as categorical\n"
     ]
    }
   ],
   "source": [
    "# test = False does not work as tss_to_peaks need to be sub-sampled, and it seems that everything is blended.\n",
    "adata = datasets.snare_p0_braincortex(test=False)\n",
    "\n",
    "top_genes = 2000\n",
    "sc.pp.normalize_total(adata, target_sum=1e4)\n",
    "sc.pp.log1p(adata)\n",
    "\n",
    "if top_genes <= adata.shape[1]:\n",
    "    sc.pp.highly_variable_genes(adata, n_top_genes=top_genes)\n",
    "    adata = adata[:, adata.var.highly_variable].copy()\n",
    "    \n",
    "# get annotation for TSS\n",
    "print('obtaining annotation...')\n",
    "_get_annotation(adata)\n",
    "print('done...')\n",
    "\n",
    "# basic quality control\n",
    "adata = _filter_has_chr(adata)\n",
    "adata = _filter_mitochondrial(adata)\n",
    "adata = _filter_n_genes_max(adata)\n",
    "adata = _filter_n_genes_min(adata)\n",
    "adata = _filter_n_cells(adata)\n",
    "\n",
    "# regress out and scale\n",
    "sc.pp.regress_out(adata, [\"total_counts\", \"pct_counts_mt\"])\n",
    "sc.pp.scale(adata, max_value=10)\n",
    "\n",
    "sel_genes = set(adata.var.index)"
   ]
  },
  {
   "cell_type": "markdown",
   "metadata": {},
   "source": [
    "## II. Once an annotation has been prepared, we test the main methods by just sampling the selected genes from before"
   ]
  },
  {
   "cell_type": "code",
   "execution_count": 4,
   "metadata": {},
   "outputs": [
    {
     "name": "stdout",
     "output_type": "stream",
     "text": [
      "before filtering (5081, 19322)\n",
      "after filtering (5081, 1234)\n"
     ]
    }
   ],
   "source": [
    "# test = False does not work as tss_to_peaks need to be sub-sampled, and it seems that everything is blended.\n",
    "adata = datasets.snare_p0_braincortex(test=False)\n",
    "print('before filtering', adata.shape)\n",
    "adata = adata[:, adata.var.index.isin(sel_genes)]\n",
    "print('after filtering', adata.shape)"
   ]
  },
  {
   "cell_type": "markdown",
   "metadata": {},
   "source": [
    "## RP-basic"
   ]
  },
  {
   "cell_type": "code",
   "execution_count": 5,
   "metadata": {},
   "outputs": [
    {
     "name": "stderr",
     "output_type": "stream",
     "text": [
      "... storing 'chr' as categorical\n",
      "... storing 'strand' as categorical\n",
      "/home/icb/ignacio.ibarra/miniconda3/envs/openproblems/lib/python3.7/site-packages/pandas/core/arrays/categorical.py:2487: FutureWarning: The `inplace` parameter in pandas.Categorical.remove_unused_categories is deprecated and will be removed in a future version.\n",
      "  res = method(*args, **kwargs)\n"
     ]
    },
    {
     "name": "stdout",
     "output_type": "stream",
     "text": [
      "# weights calculated so far 500 out of 1232\n",
      "# weights calculated so far 1000 out of 1232\n"
     ]
    },
    {
     "name": "stderr",
     "output_type": "stream",
     "text": [
      "/mnt/znas/icb_zstore01/groups/ml01/workspace/ignacio.ibarra/SingleCellOpenProblems/openproblems/tasks/regulatory_effect_prediction/methods/maestro.py:63: SettingWithCopyWarning: \n",
      "A value is trying to be set on a copy of a slice from a DataFrame.\n",
      "Try using .loc[row_indexer,col_indexer] = value instead\n",
      "\n",
      "See the caveats in the documentation: https://pandas.pydata.org/pandas-docs/stable/user_guide/indexing.html#returning-a-view-versus-a-copy\n",
      "  tss_to_peaks[\"weight\"] = weights\n"
     ]
    }
   ],
   "source": [
    "adata = methods.rp_simple(adata, n_top_genes=2000) #  log_each=10)"
   ]
  },
  {
   "cell_type": "code",
   "execution_count": 6,
   "metadata": {},
   "outputs": [
    {
     "name": "stdout",
     "output_type": "stream",
     "text": [
      "(0.010924862357515821, -0.010644082225420766)\n"
     ]
    }
   ],
   "source": [
    "%autoreload 2\n",
    "import seaborn as sns\n",
    "from openproblems.tasks.regulatory_effect_prediction import metrics\n",
    "cors = metrics.spearman_correlation(adata), metrics.pearson_correlation(adata)\n",
    "print(cors)"
   ]
  },
  {
   "cell_type": "code",
   "execution_count": 7,
   "metadata": {},
   "outputs": [
    {
     "name": "stderr",
     "output_type": "stream",
     "text": [
      "WARNING: You’re trying to run this on 1233 dimensions of `.X`, if you really want this, set `use_rep='X'`.\n",
      "         Falling back to preprocessing with `sc.pp.pca` and default params.\n"
     ]
    },
    {
     "name": "stdout",
     "output_type": "stream",
     "text": [
      "(5081, 1233) (5081, 1233)\n"
     ]
    },
    {
     "data": {
      "text/plain": [
       "Text(0.5, 0, 'correlations')"
      ]
     },
     "execution_count": 7,
     "metadata": {},
     "output_type": "execute_result"
    },
    {
     "data": {
      "image/png": "[encoded data removed]",
      "text/plain": [
       "<Figure size 432x288 with 1 Axes>"
      ]
     },
     "metadata": {
      "needs_background": "light"
     },
     "output_type": "display_data"
    }
   ],
   "source": [
    "import matplotlib.pyplot as plt\n",
    "\n",
    "sc.pp.neighbors(adata, n_neighbors=300)\n",
    "adata.layers['X_knn'] = adata.obsp['connectivities'].dot(adata.X)\n",
    "adata.layers['gene_score_knn'] = adata.obsp['connectivities'].dot(adata.obsm[\"gene_score\"])\n",
    "print(adata.layers['X_knn'].shape, adata.layers['gene_score_knn'].shape)\n",
    "from scipy.stats import pearsonr\n",
    "cors = []\n",
    "for i in range(adata.layers['X_knn'].shape[0]):\n",
    "    x = adata.layers['X_knn'][i,:]\n",
    "    y = adata.layers['gene_score_knn'][i,:].toarray().flatten()\n",
    "    cors.append(pearsonr(x, y))\n",
    "cors_cor = list(map(lambda x: x[0], cors))\n",
    "sns.kdeplot(np.array(list(cors_cor)))\n",
    "plt.xlabel('correlations')"
   ]
  },
  {
   "cell_type": "markdown",
   "metadata": {},
   "source": [
    "## RP-enhanced"
   ]
  },
  {
   "cell_type": "code",
   "execution_count": 8,
   "metadata": {},
   "outputs": [
    {
     "name": "stdout",
     "output_type": "stream",
     "text": [
      "before filtering (5081, 19322)\n",
      "after filtering (5081, 1234)\n"
     ]
    }
   ],
   "source": [
    "# test = False does not work as tss_to_peaks need to be sub-sampled, and it seems that everything is blended.\n",
    "adata = datasets.snare_p0_braincortex(test=False)\n",
    "print('before filtering', adata.shape)\n",
    "adata = adata[:, adata.var.index.isin(sel_genes)]\n",
    "print('after filtering', adata.shape)\n"
   ]
  },
  {
   "cell_type": "code",
   "execution_count": 9,
   "metadata": {},
   "outputs": [
    {
     "name": "stderr",
     "output_type": "stream",
     "text": [
      "... storing 'chr' as categorical\n",
      "... storing 'strand' as categorical\n",
      "/home/icb/ignacio.ibarra/miniconda3/envs/openproblems/lib/python3.7/site-packages/pandas/core/arrays/categorical.py:2487: FutureWarning: The `inplace` parameter in pandas.Categorical.remove_unused_categories is deprecated and will be removed in a future version.\n",
      "  res = method(*args, **kwargs)\n"
     ]
    },
    {
     "name": "stdout",
     "output_type": "stream",
     "text": [
      "calculating weights per gene...\n",
      "# weights calculated so far 500 out of 1232\n",
      "# weights calculated so far 1000 out of 1232\n"
     ]
    }
   ],
   "source": [
    "adata = methods.rp_enhanced(adata, n_top_genes=2000) #  log_each=10)"
   ]
  },
  {
   "cell_type": "code",
   "execution_count": 10,
   "metadata": {},
   "outputs": [
    {
     "name": "stdout",
     "output_type": "stream",
     "text": [
      "(0.010924862357515821, -0.010644082225420766)\n"
     ]
    }
   ],
   "source": [
    "%autoreload 2\n",
    "import seaborn as sns\n",
    "from openproblems.tasks.regulatory_effect_prediction import metrics\n",
    "cors = metrics.spearman_correlation(adata), metrics.pearson_correlation(adata)\n",
    "print(cors)"
   ]
  },
  {
   "cell_type": "code",
   "execution_count": 11,
   "metadata": {},
   "outputs": [
    {
     "name": "stderr",
     "output_type": "stream",
     "text": [
      "WARNING: You’re trying to run this on 1233 dimensions of `.X`, if you really want this, set `use_rep='X'`.\n",
      "         Falling back to preprocessing with `sc.pp.pca` and default params.\n"
     ]
    },
    {
     "name": "stdout",
     "output_type": "stream",
     "text": [
      "(5081, 1233) (5081, 1233)\n"
     ]
    },
    {
     "data": {
      "text/plain": [
       "Text(0.5, 0, 'correlations')"
      ]
     },
     "execution_count": 11,
     "metadata": {},
     "output_type": "execute_result"
    },
    {
     "data": {
      "image/png": "[encoded data removed]",
      "text/plain": [
       "<Figure size 432x288 with 1 Axes>"
      ]
     },
     "metadata": {
      "needs_background": "light"
     },
     "output_type": "display_data"
    }
   ],
   "source": [
    "import matplotlib.pyplot as plt\n",
    "\n",
    "sc.pp.neighbors(adata, n_neighbors=300)\n",
    "adata.layers['X_knn'] = adata.obsp['connectivities'].dot(adata.X)\n",
    "adata.layers['gene_score_knn'] = adata.obsp['connectivities'].dot(adata.obsm[\"gene_score\"])\n",
    "print(adata.layers['X_knn'].shape, adata.layers['gene_score_knn'].shape)\n",
    "from scipy.stats import pearsonr\n",
    "cors = []\n",
    "for i in range(adata.layers['X_knn'].shape[0]):\n",
    "    x = adata.layers['X_knn'][i,:]\n",
    "    y = adata.layers['gene_score_knn'][i,:].toarray().flatten()\n",
    "    cors.append(pearsonr(x, y))\n",
    "cors_cor = list(map(lambda x: x[0], cors))\n",
    "sns.kdeplot(np.array(list(cors_cor)))\n",
    "plt.xlabel('correlations')"
   ]
  }
 ],
 "metadata": {
  "kernelspec": {
   "display_name": "openproblems",
   "language": "python",
   "name": "openproblems"
  },
  "language_info": {
   "codemirror_mode": {
    "name": "ipython",
    "version": 3
   },
   "file_extension": ".py",
   "mimetype": "text/x-python",
   "name": "python",
   "nbconvert_exporter": "python",
   "pygments_lexer": "ipython3",
   "version": "3.7.10"
  },
  "toc": {
   "base_numbering": 1,
   "nav_menu": {},
   "number_sections": true,
   "sideBar": true,
   "skip_h1_title": false,
   "title_cell": "Table of Contents",
   "title_sidebar": "Contents",
   "toc_cell": false,
   "toc_position": {},
   "toc_section_display": true,
   "toc_window_display": false
  }
 },
 "nbformat": 4,
 "nbformat_minor": 4
}
